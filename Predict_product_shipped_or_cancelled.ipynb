{
 "cells": [
  {
   "cell_type": "markdown",
   "metadata": {
    "id": "gYFhHC31duWB"
   },
   "source": [
    "<h1>Objective</h1>\n",
    "\n",
    "- Data preprocessing: missing value treatment, duplicate values detection, one-hot encoding, standardization\n",
    "- Visualize the high dimensional data using the PCA \n",
    "- Perform dimensionality reduction and check the explained variance using PCA model. \n",
    "- Train a Linear Discriminant Analysis(LDA) model \n",
    "- Build a classifier to check if the product has been shipped or canceled."
   ]
  },
  {
   "cell_type": "markdown",
   "metadata": {
    "id": "9-VGHM-sduWM"
   },
   "source": [
    "## Problem Statement\n",
    "\n",
    "XYZ.com is an e-commerce company based in Argentina. Due to the covid crisis and lockdown XYZ.com is facing lots of issues from the dealer and the shipment team.  XYZ.com has lots of product data where various shipping and sales details of each product have been mentioned. XYZ.com wants to find out which of the products has been shipped and which of the products has been canceled to reduce customer escalation. As a data-scientist, we have to train a PCA model to visualize its higher-dimensional data and we have to train an LDA(Linear Discriminant Analysis) model to predict which of the product has been shipped and which of the product has been canceled."
   ]
  },
  {
   "cell_type": "markdown",
   "metadata": {
    "id": "ONVPFqgsL8ry"
   },
   "source": [
    "<h1>1. Import necessary libraries.</h1>"
   ]
  },
  {
   "cell_type": "code",
   "execution_count": 147,
   "metadata": {
    "id": "2kFsfPZXL8sC"
   },
   "outputs": [],
   "source": [
    "import warnings\n",
    "warnings.filterwarnings(\"ignore\")"
   ]
  },
  {
   "cell_type": "code",
   "execution_count": 148,
   "metadata": {
    "id": "2VTgMsfTL8sE"
   },
   "outputs": [],
   "source": [
    "import numpy as np\n",
    "import re\n",
    "import pandas as pd\n",
    "import scipy.stats as stats\n",
    "import matplotlib.pyplot as plt\n",
    "import seaborn as sns\n",
    "from math import factorial as f\n",
    "from pylab import rcParams\n",
    "rcParams['figure.figsize'] = 10, 15\n",
    "from sklearn.model_selection import train_test_split\n",
    "from sklearn.metrics import classification_report,confusion_matrix,roc_curve,accuracy_score,auc,roc_auc_score\n",
    "from matplotlib.font_manager import FontProperties\n",
    "from sklearn.tree import DecisionTreeClassifier\n",
    "from sklearn.ensemble import RandomForestClassifier\n",
    "from sklearn.preprocessing import StandardScaler\n",
    "from scipy.linalg import eigh\n",
    "from sklearn import decomposition\n",
    "from sklearn.decomposition import PCA\n",
    "from sklearn.discriminant_analysis import LinearDiscriminantAnalysis as LDA"
   ]
  },
  {
   "cell_type": "markdown",
   "metadata": {
    "id": "QaMn72C6L8sG"
   },
   "source": [
    "<h1>2. Display a sample of five rows of the data frame</h1>"
   ]
  },
  {
   "cell_type": "code",
   "execution_count": 149,
   "metadata": {
    "id": "bccGMqGYL8sH"
   },
   "outputs": [],
   "source": [
    "#df=pd.read_csv('‪C:\\Users\\ADMIN\\Downloads\\sales_data.csv',encoding='unicode_escape')"
   ]
  },
  {
   "cell_type": "code",
   "execution_count": 150,
   "metadata": {},
   "outputs": [],
   "source": [
    "df=pd.read_csv(r'C:\\Users\\ADMIN\\Downloads\\sales_data.csv')"
   ]
  },
  {
   "cell_type": "code",
   "execution_count": 151,
   "metadata": {
    "id": "7HMBmKmtL8sI"
   },
   "outputs": [
    {
     "data": {
      "text/html": [
       "<div>\n",
       "<style scoped>\n",
       "    .dataframe tbody tr th:only-of-type {\n",
       "        vertical-align: middle;\n",
       "    }\n",
       "\n",
       "    .dataframe tbody tr th {\n",
       "        vertical-align: top;\n",
       "    }\n",
       "\n",
       "    .dataframe thead th {\n",
       "        text-align: right;\n",
       "    }\n",
       "</style>\n",
       "<table border=\"1\" class=\"dataframe\">\n",
       "  <thead>\n",
       "    <tr style=\"text-align: right;\">\n",
       "      <th></th>\n",
       "      <th>ORDERNUMBER</th>\n",
       "      <th>QUANTITYORDERED</th>\n",
       "      <th>PRICEEACH</th>\n",
       "      <th>ORDERLINENUMBER</th>\n",
       "      <th>SALES</th>\n",
       "      <th>ORDERDATE</th>\n",
       "      <th>STATUS</th>\n",
       "      <th>QTR_ID</th>\n",
       "      <th>MONTH_ID</th>\n",
       "      <th>YEAR_ID</th>\n",
       "      <th>...</th>\n",
       "      <th>ADDRESSLINE1</th>\n",
       "      <th>ADDRESSLINE2</th>\n",
       "      <th>CITY</th>\n",
       "      <th>STATE</th>\n",
       "      <th>POSTALCODE</th>\n",
       "      <th>COUNTRY</th>\n",
       "      <th>TERRITORY</th>\n",
       "      <th>CONTACTLASTNAME</th>\n",
       "      <th>CONTACTFIRSTNAME</th>\n",
       "      <th>DEALSIZE</th>\n",
       "    </tr>\n",
       "  </thead>\n",
       "  <tbody>\n",
       "    <tr>\n",
       "      <th>1623</th>\n",
       "      <td>10193</td>\n",
       "      <td>20</td>\n",
       "      <td>50.62</td>\n",
       "      <td>9</td>\n",
       "      <td>1012.40</td>\n",
       "      <td>11/21/2003 0:00</td>\n",
       "      <td>Shipped</td>\n",
       "      <td>4</td>\n",
       "      <td>11</td>\n",
       "      <td>2003</td>\n",
       "      <td>...</td>\n",
       "      <td>7 Allen Street</td>\n",
       "      <td>NaN</td>\n",
       "      <td>Glen Waverly</td>\n",
       "      <td>Victoria</td>\n",
       "      <td>3150</td>\n",
       "      <td>Australia</td>\n",
       "      <td>APAC</td>\n",
       "      <td>Connery</td>\n",
       "      <td>Sean</td>\n",
       "      <td>Small</td>\n",
       "    </tr>\n",
       "    <tr>\n",
       "      <th>2186</th>\n",
       "      <td>10297</td>\n",
       "      <td>26</td>\n",
       "      <td>100.00</td>\n",
       "      <td>2</td>\n",
       "      <td>2856.88</td>\n",
       "      <td>9/16/2004 0:00</td>\n",
       "      <td>Shipped</td>\n",
       "      <td>3</td>\n",
       "      <td>9</td>\n",
       "      <td>2004</td>\n",
       "      <td>...</td>\n",
       "      <td>25 Maiden Lane</td>\n",
       "      <td>Floor No. 4</td>\n",
       "      <td>Dublin</td>\n",
       "      <td>NaN</td>\n",
       "      <td>2</td>\n",
       "      <td>Ireland</td>\n",
       "      <td>EMEA</td>\n",
       "      <td>Cassidy</td>\n",
       "      <td>Dean</td>\n",
       "      <td>Small</td>\n",
       "    </tr>\n",
       "    <tr>\n",
       "      <th>1382</th>\n",
       "      <td>10276</td>\n",
       "      <td>48</td>\n",
       "      <td>100.00</td>\n",
       "      <td>8</td>\n",
       "      <td>5713.92</td>\n",
       "      <td>8/2/2004 0:00</td>\n",
       "      <td>Shipped</td>\n",
       "      <td>3</td>\n",
       "      <td>8</td>\n",
       "      <td>2004</td>\n",
       "      <td>...</td>\n",
       "      <td>7635 Spinnaker Dr.</td>\n",
       "      <td>NaN</td>\n",
       "      <td>Brickhaven</td>\n",
       "      <td>MA</td>\n",
       "      <td>58339</td>\n",
       "      <td>USA</td>\n",
       "      <td>NaN</td>\n",
       "      <td>Barajas</td>\n",
       "      <td>Miguel</td>\n",
       "      <td>Medium</td>\n",
       "    </tr>\n",
       "    <tr>\n",
       "      <th>138</th>\n",
       "      <td>10164</td>\n",
       "      <td>21</td>\n",
       "      <td>100.00</td>\n",
       "      <td>2</td>\n",
       "      <td>3536.82</td>\n",
       "      <td>10/21/2003 0:00</td>\n",
       "      <td>Resolved</td>\n",
       "      <td>4</td>\n",
       "      <td>10</td>\n",
       "      <td>2003</td>\n",
       "      <td>...</td>\n",
       "      <td>Kirchgasse 6</td>\n",
       "      <td>NaN</td>\n",
       "      <td>Graz</td>\n",
       "      <td>NaN</td>\n",
       "      <td>8010</td>\n",
       "      <td>Austria</td>\n",
       "      <td>EMEA</td>\n",
       "      <td>Mendel</td>\n",
       "      <td>Roland</td>\n",
       "      <td>Medium</td>\n",
       "    </tr>\n",
       "    <tr>\n",
       "      <th>2472</th>\n",
       "      <td>10283</td>\n",
       "      <td>45</td>\n",
       "      <td>78.67</td>\n",
       "      <td>9</td>\n",
       "      <td>3540.15</td>\n",
       "      <td>8/20/2004 0:00</td>\n",
       "      <td>Shipped</td>\n",
       "      <td>3</td>\n",
       "      <td>8</td>\n",
       "      <td>2004</td>\n",
       "      <td>...</td>\n",
       "      <td>23 Tsawassen Blvd.</td>\n",
       "      <td>NaN</td>\n",
       "      <td>Tsawassen</td>\n",
       "      <td>BC</td>\n",
       "      <td>T2F 8M4</td>\n",
       "      <td>Canada</td>\n",
       "      <td>NaN</td>\n",
       "      <td>Lincoln</td>\n",
       "      <td>Elizabeth</td>\n",
       "      <td>Medium</td>\n",
       "    </tr>\n",
       "  </tbody>\n",
       "</table>\n",
       "<p>5 rows × 25 columns</p>\n",
       "</div>"
      ],
      "text/plain": [
       "      ORDERNUMBER  QUANTITYORDERED  PRICEEACH  ORDERLINENUMBER    SALES  \\\n",
       "1623        10193               20      50.62                9  1012.40   \n",
       "2186        10297               26     100.00                2  2856.88   \n",
       "1382        10276               48     100.00                8  5713.92   \n",
       "138         10164               21     100.00                2  3536.82   \n",
       "2472        10283               45      78.67                9  3540.15   \n",
       "\n",
       "            ORDERDATE    STATUS  QTR_ID  MONTH_ID  YEAR_ID  ...  \\\n",
       "1623  11/21/2003 0:00   Shipped       4        11     2003  ...   \n",
       "2186   9/16/2004 0:00   Shipped       3         9     2004  ...   \n",
       "1382    8/2/2004 0:00   Shipped       3         8     2004  ...   \n",
       "138   10/21/2003 0:00  Resolved       4        10     2003  ...   \n",
       "2472   8/20/2004 0:00   Shipped       3         8     2004  ...   \n",
       "\n",
       "            ADDRESSLINE1  ADDRESSLINE2          CITY     STATE POSTALCODE  \\\n",
       "1623      7 Allen Street           NaN  Glen Waverly  Victoria       3150   \n",
       "2186      25 Maiden Lane   Floor No. 4        Dublin       NaN          2   \n",
       "1382  7635 Spinnaker Dr.           NaN    Brickhaven        MA      58339   \n",
       "138         Kirchgasse 6           NaN          Graz       NaN       8010   \n",
       "2472  23 Tsawassen Blvd.           NaN     Tsawassen        BC    T2F 8M4   \n",
       "\n",
       "        COUNTRY TERRITORY CONTACTLASTNAME CONTACTFIRSTNAME DEALSIZE  \n",
       "1623  Australia      APAC         Connery             Sean    Small  \n",
       "2186    Ireland      EMEA         Cassidy             Dean    Small  \n",
       "1382        USA       NaN         Barajas           Miguel   Medium  \n",
       "138     Austria      EMEA          Mendel           Roland   Medium  \n",
       "2472     Canada       NaN         Lincoln        Elizabeth   Medium  \n",
       "\n",
       "[5 rows x 25 columns]"
      ]
     },
     "execution_count": 151,
     "metadata": {},
     "output_type": "execute_result"
    }
   ],
   "source": [
    "# Write a code to display 5 random samples\n",
    "df.sample(5)"
   ]
  },
  {
   "cell_type": "markdown",
   "metadata": {
    "id": "IDdvMs2rL8sK"
   },
   "source": [
    "<h1> 3. Check the shape of the data (number of rows and column). Check the general information about the dataframe using .info() method.\n",
    "</h1>"
   ]
  },
  {
   "cell_type": "code",
   "execution_count": 152,
   "metadata": {
    "id": "a8CxySY22L4l"
   },
   "outputs": [
    {
     "data": {
      "text/plain": [
       "<bound method DataFrame.info of       ORDERNUMBER  QUANTITYORDERED  PRICEEACH  ORDERLINENUMBER    SALES  \\\n",
       "0           10107               30      95.70                2  2871.00   \n",
       "1           10121               34      81.35                5  2765.90   \n",
       "2           10134               41      94.74                2  3884.34   \n",
       "3           10145               45      83.26                6  3746.70   \n",
       "4           10159               49     100.00               14  5205.27   \n",
       "...           ...              ...        ...              ...      ...   \n",
       "2818        10350               20     100.00               15  2244.40   \n",
       "2819        10373               29     100.00                1  3978.51   \n",
       "2820        10386               43     100.00                4  5417.57   \n",
       "2821        10397               34      62.24                1  2116.16   \n",
       "2822        10414               47      65.52                9  3079.44   \n",
       "\n",
       "            ORDERDATE    STATUS  QTR_ID  MONTH_ID  YEAR_ID  ...  \\\n",
       "0      2/24/2003 0:00   Shipped       1         2     2003  ...   \n",
       "1       5/7/2003 0:00   Shipped       2         5     2003  ...   \n",
       "2       7/1/2003 0:00   Shipped       3         7     2003  ...   \n",
       "3      8/25/2003 0:00   Shipped       3         8     2003  ...   \n",
       "4     10/10/2003 0:00   Shipped       4        10     2003  ...   \n",
       "...               ...       ...     ...       ...      ...  ...   \n",
       "2818   12/2/2004 0:00   Shipped       4        12     2004  ...   \n",
       "2819   1/31/2005 0:00   Shipped       1         1     2005  ...   \n",
       "2820    3/1/2005 0:00  Resolved       1         3     2005  ...   \n",
       "2821   3/28/2005 0:00   Shipped       1         3     2005  ...   \n",
       "2822    5/6/2005 0:00   On Hold       2         5     2005  ...   \n",
       "\n",
       "                       ADDRESSLINE1  ADDRESSLINE2           CITY STATE  \\\n",
       "0           897 Long Airport Avenue           NaN            NYC    NY   \n",
       "1                59 rue de l'Abbaye           NaN          Reims   NaN   \n",
       "2     27 rue du Colonel Pierre Avia           NaN          Paris   NaN   \n",
       "3                78934 Hillside Dr.           NaN       Pasadena    CA   \n",
       "4                   7734 Strong St.           NaN  San Francisco    CA   \n",
       "...                             ...           ...            ...   ...   \n",
       "2818             C/ Moralzarzal, 86           NaN         Madrid   NaN   \n",
       "2819                    Torikatu 38           NaN           Oulu   NaN   \n",
       "2820             C/ Moralzarzal, 86           NaN         Madrid   NaN   \n",
       "2821          1 rue Alsace-Lorraine           NaN       Toulouse   NaN   \n",
       "2822             8616 Spinnaker Dr.           NaN         Boston    MA   \n",
       "\n",
       "     POSTALCODE  COUNTRY TERRITORY CONTACTLASTNAME CONTACTFIRSTNAME DEALSIZE  \n",
       "0         10022      USA       NaN              Yu             Kwai    Small  \n",
       "1         51100   France      EMEA         Henriot             Paul    Small  \n",
       "2         75508   France      EMEA        Da Cunha           Daniel   Medium  \n",
       "3         90003      USA       NaN           Young            Julie   Medium  \n",
       "4           NaN      USA       NaN           Brown            Julie   Medium  \n",
       "...         ...      ...       ...             ...              ...      ...  \n",
       "2818      28034    Spain      EMEA          Freyre            Diego    Small  \n",
       "2819      90110  Finland      EMEA       Koskitalo           Pirkko   Medium  \n",
       "2820      28034    Spain      EMEA          Freyre            Diego   Medium  \n",
       "2821      31000   France      EMEA          Roulet          Annette    Small  \n",
       "2822      51003      USA       NaN         Yoshido             Juri   Medium  \n",
       "\n",
       "[2823 rows x 25 columns]>"
      ]
     },
     "execution_count": 152,
     "metadata": {},
     "output_type": "execute_result"
    }
   ],
   "source": [
    "# Check basic info of the df\n",
    "df.shape\n",
    "df.info\n"
   ]
  },
  {
   "cell_type": "markdown",
   "metadata": {
    "id": "szbU2qr6L8sM"
   },
   "source": [
    "<h1>4.Check the percentage of missing values in each column of the data frame.</h1>"
   ]
  },
  {
   "cell_type": "code",
   "execution_count": 153,
   "metadata": {
    "id": "wI2JKap3LVIi"
   },
   "outputs": [
    {
     "name": "stdout",
     "output_type": "stream",
     "text": [
      "ORDERNUMBER          0.000000\n",
      "QUANTITYORDERED      0.000000\n",
      "PRICEEACH            0.000000\n",
      "ORDERLINENUMBER      0.000000\n",
      "SALES                0.000000\n",
      "ORDERDATE            0.000000\n",
      "STATUS               0.000000\n",
      "QTR_ID               0.000000\n",
      "MONTH_ID             0.000000\n",
      "YEAR_ID              0.000000\n",
      "PRODUCTLINE          0.000000\n",
      "MSRP                 0.000000\n",
      "PRODUCTCODE          0.000000\n",
      "CUSTOMERNAME         0.000000\n",
      "PHONE                0.000000\n",
      "ADDRESSLINE1         0.000000\n",
      "ADDRESSLINE2        89.302161\n",
      "CITY                 0.000000\n",
      "STATE               52.639036\n",
      "POSTALCODE           2.692171\n",
      "COUNTRY              0.000000\n",
      "TERRITORY           38.044633\n",
      "CONTACTLASTNAME      0.000000\n",
      "CONTACTFIRSTNAME     0.000000\n",
      "DEALSIZE             0.000000\n",
      "dtype: float64\n"
     ]
    }
   ],
   "source": [
    "def check_missing_values(df):\n",
    "    '''Function to check the missing data percentage'''\n",
    "    #Fill here\n",
    "    print(df.isnull().sum()/(len(df))*100)\n",
    "    \n",
    "check_missing_values(df)"
   ]
  },
  {
   "cell_type": "markdown",
   "metadata": {
    "id": "x3qZ-nzYL8sQ"
   },
   "source": [
    "<h1>5. Check if there are any duplicate rows.</h1>"
   ]
  },
  {
   "cell_type": "code",
   "execution_count": 154,
   "metadata": {
    "id": "Om2oC2z0GI8i"
   },
   "outputs": [
    {
     "data": {
      "text/plain": [
       "0       False\n",
       "1       False\n",
       "2       False\n",
       "3       False\n",
       "4       False\n",
       "        ...  \n",
       "2818    False\n",
       "2819    False\n",
       "2820    False\n",
       "2821    False\n",
       "2822    False\n",
       "Length: 2823, dtype: bool"
      ]
     },
     "execution_count": 154,
     "metadata": {},
     "output_type": "execute_result"
    }
   ],
   "source": [
    "def check_duplicate(df):\n",
    "    # Write your code here\n",
    "    duplicate = df.duplicated()\n",
    "    return duplicate\n",
    "\n",
    "duplicate=check_duplicate(df)\n",
    "duplicate"
   ]
  },
  {
   "cell_type": "markdown",
   "metadata": {
    "id": "NgPBf7IuL8sR"
   },
   "source": [
    "- As we can see, There is no duplicate columns which is a good thing for us."
   ]
  },
  {
   "cell_type": "markdown",
   "metadata": {
    "id": "EJAVN2EqL8sS"
   },
   "source": [
    "<h1> 6. Write a function that will impute missing values of the columns “STATE”, “POSTALCODE”,“TERRITORY” with its most occurring label.   </h1>"
   ]
  },
  {
   "cell_type": "code",
   "execution_count": 155,
   "metadata": {
    "id": "uOWtZIshL8sS"
   },
   "outputs": [],
   "source": [
    "def impute_most_occur(df):\n",
    "    # Write your code here\n",
    "    df['STATE'].fillna(df['STATE'].value_counts().idxmax(),inplace=True)\n",
    "    df['POSTALCODE'].fillna(df['POSTALCODE'].value_counts().idxmax(),inplace=True)\n",
    "    df['TERRITORY'].fillna(df['TERRITORY'].value_counts().idxmax(),inplace = True)\n",
    "    return df\n",
    "\n",
    "df=impute_most_occur(df)"
   ]
  },
  {
   "cell_type": "code",
   "execution_count": 156,
   "metadata": {
    "id": "fuFpeGaWGOX5"
   },
   "outputs": [
    {
     "name": "stdout",
     "output_type": "stream",
     "text": [
      "ORDERNUMBER          0.000000\n",
      "QUANTITYORDERED      0.000000\n",
      "PRICEEACH            0.000000\n",
      "ORDERLINENUMBER      0.000000\n",
      "SALES                0.000000\n",
      "ORDERDATE            0.000000\n",
      "STATUS               0.000000\n",
      "QTR_ID               0.000000\n",
      "MONTH_ID             0.000000\n",
      "YEAR_ID              0.000000\n",
      "PRODUCTLINE          0.000000\n",
      "MSRP                 0.000000\n",
      "PRODUCTCODE          0.000000\n",
      "CUSTOMERNAME         0.000000\n",
      "PHONE                0.000000\n",
      "ADDRESSLINE1         0.000000\n",
      "ADDRESSLINE2        89.302161\n",
      "CITY                 0.000000\n",
      "STATE                0.000000\n",
      "POSTALCODE           0.000000\n",
      "COUNTRY              0.000000\n",
      "TERRITORY            0.000000\n",
      "CONTACTLASTNAME      0.000000\n",
      "CONTACTFIRSTNAME     0.000000\n",
      "DEALSIZE             0.000000\n",
      "dtype: float64\n"
     ]
    }
   ],
   "source": [
    "check_missing_values(df) #check missing values"
   ]
  },
  {
   "cell_type": "markdown",
   "metadata": {
    "id": "5E9L2utWL8sT"
   },
   "source": [
    "<h1>7. Drop “ADDRESSLINE2”,”ORDERDATE”,”PHONE” column.</h1>"
   ]
  },
  {
   "cell_type": "code",
   "execution_count": 157,
   "metadata": {
    "id": "ImWrWqoRL8sU"
   },
   "outputs": [],
   "source": [
    "# write a code here to drop the mentioned columns\n",
    "df=df.drop(columns =['ADDRESSLINE2', 'ORDERDATE','PHONE'])"
   ]
  },
  {
   "cell_type": "code",
   "execution_count": 158,
   "metadata": {
    "id": "M5XM7g6xGYAq"
   },
   "outputs": [
    {
     "name": "stdout",
     "output_type": "stream",
     "text": [
      "<class 'pandas.core.frame.DataFrame'>\n",
      "RangeIndex: 2823 entries, 0 to 2822\n",
      "Data columns (total 22 columns):\n",
      " #   Column            Non-Null Count  Dtype  \n",
      "---  ------            --------------  -----  \n",
      " 0   ORDERNUMBER       2823 non-null   int64  \n",
      " 1   QUANTITYORDERED   2823 non-null   int64  \n",
      " 2   PRICEEACH         2823 non-null   float64\n",
      " 3   ORDERLINENUMBER   2823 non-null   int64  \n",
      " 4   SALES             2823 non-null   float64\n",
      " 5   STATUS            2823 non-null   object \n",
      " 6   QTR_ID            2823 non-null   int64  \n",
      " 7   MONTH_ID          2823 non-null   int64  \n",
      " 8   YEAR_ID           2823 non-null   int64  \n",
      " 9   PRODUCTLINE       2823 non-null   object \n",
      " 10  MSRP              2823 non-null   int64  \n",
      " 11  PRODUCTCODE       2823 non-null   object \n",
      " 12  CUSTOMERNAME      2823 non-null   object \n",
      " 13  ADDRESSLINE1      2823 non-null   object \n",
      " 14  CITY              2823 non-null   object \n",
      " 15  STATE             2823 non-null   object \n",
      " 16  POSTALCODE        2823 non-null   object \n",
      " 17  COUNTRY           2823 non-null   object \n",
      " 18  TERRITORY         2823 non-null   object \n",
      " 19  CONTACTLASTNAME   2823 non-null   object \n",
      " 20  CONTACTFIRSTNAME  2823 non-null   object \n",
      " 21  DEALSIZE          2823 non-null   object \n",
      "dtypes: float64(2), int64(7), object(13)\n",
      "memory usage: 485.3+ KB\n"
     ]
    }
   ],
   "source": [
    "# Check basic info\n",
    "df.info()"
   ]
  },
  {
   "cell_type": "markdown",
   "metadata": {
    "id": "gLSwZF8WL8sV"
   },
   "source": [
    "<h1>8. Convert the labels of the STATUS column to 0 and 1. For Shipped assign value 1 and for all other labels (i.e. ‘Cancelled’,’ Resolved’,’ On Hold’,’ In Process’, 'Disputed') assign 0. Note we will consider everything apart from Shipped as cancel (i.e. 0).\n"
   ]
  },
  {
   "cell_type": "code",
   "execution_count": 159,
   "metadata": {
    "id": "WpaXEv7u3aMa"
   },
   "outputs": [],
   "source": [
    "df['STATUS'] = df['STATUS'].map({'Shipped':1,'Cancelled':0,'Resolved':0,'On Hold':0,'In Process':0,'Disputed':0})"
   ]
  },
  {
   "cell_type": "code",
   "execution_count": 163,
   "metadata": {
    "id": "ZCIajB9jL8sV"
   },
   "outputs": [
    {
     "data": {
      "text/plain": [
       "1    2617\n",
       "0     206\n",
       "Name: STATUS, dtype: int64"
      ]
     },
     "execution_count": 163,
     "metadata": {},
     "output_type": "execute_result"
    }
   ],
   "source": [
    "# check the value counts post mapping\n",
    "df['STATUS'] .value_counts()"
   ]
  },
  {
   "cell_type": "markdown",
   "metadata": {
    "id": "sXTGIBksL8sW"
   },
   "source": [
    "<h1>9. Assign ‘STATUS’ column into a label variable and drop it from the original dataframe.</h1>"
   ]
  },
  {
   "cell_type": "code",
   "execution_count": 130,
   "metadata": {
    "id": "mz-g8iawL8sW"
   },
   "outputs": [],
   "source": [
    "lv = df['STATUS']\n",
    "df.drop(['STATUS'],axis=1,inplace=True)"
   ]
  },
  {
   "cell_type": "markdown",
   "metadata": {
    "id": "K3hIRmCDG0QV"
   },
   "source": [
    "## 10. Convert the original dataframe to the dummy coded data.(Hint:-use pd.get_dummies())"
   ]
  },
  {
   "cell_type": "code",
   "execution_count": 131,
   "metadata": {
    "id": "NvdEU74AL8sX"
   },
   "outputs": [],
   "source": [
    "# Encode all the categorical features using one hot encoding\n",
    "new_df =pd.get_dummies(df)"
   ]
  },
  {
   "cell_type": "code",
   "execution_count": 132,
   "metadata": {
    "id": "WFhnK0dQGjGJ"
   },
   "outputs": [
    {
     "data": {
      "text/plain": [
       "(2823, 645)"
      ]
     },
     "execution_count": 132,
     "metadata": {},
     "output_type": "execute_result"
    }
   ],
   "source": [
    "new_df.shape"
   ]
  },
  {
   "cell_type": "markdown",
   "metadata": {
    "id": "WKgjYhlcL8sX"
   },
   "source": [
    "<h1>11. Use StandardScaler to scale the data.</h1>\n"
   ]
  },
  {
   "cell_type": "code",
   "execution_count": 133,
   "metadata": {
    "id": "_PIo_pkM3knj"
   },
   "outputs": [],
   "source": [
    "sc = StandardScaler()\n",
    "sample_data = sc.fit_transform(new_df)"
   ]
  },
  {
   "cell_type": "markdown",
   "metadata": {
    "id": "V0WD-e8WL8sY"
   },
   "source": [
    "<h1>PCA for Visualization </h1>"
   ]
  },
  {
   "cell_type": "markdown",
   "metadata": {
    "id": "0f4cUZfWL8sY"
   },
   "source": [
    "<h1> 1. Take the help of PCA to reduce the data to 2 dimensions. Use n_components=2. </h1>"
   ]
  },
  {
   "cell_type": "code",
   "execution_count": 134,
   "metadata": {
    "id": "ZsJn1GgV3mwK"
   },
   "outputs": [],
   "source": [
    "pca = PCA(n_components=2)\n",
    "pca.fit(new_df)\n",
    "pca_data = pca.transform(new_df)"
   ]
  },
  {
   "cell_type": "markdown",
   "metadata": {
    "id": "xOrXqZQxL8sZ"
   },
   "source": [
    "<h1> 2. Take the first and second principal components and plot a scatter plot with the labels. </h1>"
   ]
  },
  {
   "cell_type": "code",
   "execution_count": 135,
   "metadata": {
    "id": "j93nN3cGHGTu"
   },
   "outputs": [
    {
     "data": {
      "image/png": "[encoded data removed]",
      "text/plain": [
       "<Figure size 772x720 with 1 Axes>"
      ]
     },
     "metadata": {
      "needs_background": "light"
     },
     "output_type": "display_data"
    }
   ],
   "source": [
    "## pca_data is the transformed data\n",
    "pca_data = np.vstack((pca_data.T,lv)).T\n",
    "pca_df = pd.DataFrame(data=pca_data,columns=(\"1st_component\",\"2nd_component\",\"labels\"))\n",
    "sns.FacetGrid(pca_df,hue='labels',size=10).map(plt.scatter,\"1st_component\",\"2nd_component\").add_legend()\n",
    "plt.show()"
   ]
  },
  {
   "cell_type": "markdown",
   "metadata": {
    "id": "dKYKXaD7L8sa"
   },
   "source": [
    "<h1> 3. Write the intuitions about the scatter plot.</h1>"
   ]
  },
  {
   "cell_type": "markdown",
   "metadata": {
    "id": "vUub9m1cHXab"
   },
   "source": [
    "- Most of the data are overlapping with each other.\n",
    "- As we can see, data is coming in clusters."
   ]
  },
  {
   "cell_type": "markdown",
   "metadata": {
    "id": "oJKzPfMeL8sb"
   },
   "source": [
    "<h1>PCA for dimensionality Reduction </h1>"
   ]
  },
  {
   "cell_type": "markdown",
   "metadata": {
    "id": "LwVjCmMBL8sb"
   },
   "source": [
    "<h1> 1. Fit the PCA model on the data and plot a graph between n_components and cumulative explained variance.</h1>"
   ]
  },
  {
   "cell_type": "code",
   "execution_count": 136,
   "metadata": {
    "id": "AdWLqUZhL8sb",
    "outputId": "6eba07d5-9f8c-44ae-c0aa-7dbac7e4a1d5"
   },
   "outputs": [
    {
     "data": {
      "image/png": "[encoded data removed]",
      "text/plain": [
       "<Figure size 864x576 with 1 Axes>"
      ]
     },
     "metadata": {
      "needs_background": "light"
     },
     "output_type": "display_data"
    }
   ],
   "source": [
    "pca=PCA()\n",
    "pca.n_components=645\n",
    "pca_data = pca.fit_transform(sample_data) ###sample_data is the standardized data\n",
    "\n",
    "percentage_var_explained=pca.explained_variance_/np.sum(pca.explained_variance_)\n",
    "\n",
    "cum_var_explained=np.cumsum(percentage_var_explained)\n",
    "\n",
    "plt.figure(1,figsize=(12,8))\n",
    "plt.clf()\n",
    "plt.plot(cum_var_explained,linewidth=2)\n",
    "plt.axis=('tight')\n",
    "plt.grid()\n",
    "plt.xlabel('n_components')\n",
    "plt.ylabel('Cumulative_explained_Variance')\n",
    "plt.show()"
   ]
  },
  {
   "cell_type": "markdown",
   "metadata": {
    "id": "Sh-7mcNUL8sc"
   },
   "source": [
    "- From the above diagram it is clear that by taking around 150 components we will be able to get 90% varaiance."
   ]
  },
  {
   "cell_type": "markdown",
   "metadata": {
    "id": "dCPqwLLSL8sc"
   },
   "source": [
    "<h1>  LDA </h1>"
   ]
  },
  {
   "cell_type": "markdown",
   "metadata": {
    "id": "U3XMLanVL8sc"
   },
   "source": [
    "<h1> 1.Split the dataset into two parts (i.e. 80% train and 20% test) using random_state=42. </h1>"
   ]
  },
  {
   "cell_type": "code",
   "execution_count": 137,
   "metadata": {
    "id": "v3Trl-N_duWh"
   },
   "outputs": [],
   "source": [
    "import warnings\n",
    "warnings.filterwarnings(\"ignore\")"
   ]
  },
  {
   "cell_type": "code",
   "execution_count": 138,
   "metadata": {
    "id": "vDlPbkDQL8sd",
    "outputId": "1d134317-f212-4893-8ed5-84d5c332c7db"
   },
   "outputs": [
    {
     "data": {
      "text/plain": [
       "((2823, 645), (2823,))"
      ]
     },
     "execution_count": 138,
     "metadata": {},
     "output_type": "execute_result"
    }
   ],
   "source": [
    "sample_data.shape,lv.shape # Here, sample_Data has independent features (standardized data) and lv has a Target column"
   ]
  },
  {
   "cell_type": "code",
   "execution_count": 139,
   "metadata": {
    "id": "zAiw_KhsL8sd"
   },
   "outputs": [],
   "source": [
    "#label = lv.as_matrix() \n",
    "label = lv.to_numpy()\n",
    "lv_mat = label.reshape(-1,1) ###Target column"
   ]
  },
  {
   "cell_type": "code",
   "execution_count": 140,
   "metadata": {
    "id": "EBtGYQrgL8sd"
   },
   "outputs": [],
   "source": [
    "# Split the data here\n",
    "X=new_df\n",
    "\n",
    "X_train, X_test, y_train, y_test = train_test_split(X,label, test_size=0.2,random_state =42)\n",
    "\n",
    "\n"
   ]
  },
  {
   "cell_type": "code",
   "execution_count": 141,
   "metadata": {
    "id": "lGrg_YALduWi",
    "outputId": "8aa90d7b-dcc9-48a5-a39d-94060aa1b831"
   },
   "outputs": [
    {
     "name": "stdout",
     "output_type": "stream",
     "text": [
      "Train Accuracy 0.9317980513728964\n",
      "Test Accuracy 0.9079646017699115\n",
      "**************************************************\n",
      "Train confusion matrix [[   0  154]\n",
      " [   0 2104]]\n",
      "Test confusion matrix [[  0  52]\n",
      " [  0 513]]\n"
     ]
    }
   ],
   "source": [
    "# Train a random forest model here and print confusion matrix\n",
    "rf = RandomForestClassifier(max_depth=3,n_estimators=25)\n",
    "\n",
    "rf.fit(X_train,y_train)\n",
    "y_train_pred=rf.predict(X_train)\n",
    "y_test_pred=rf.predict(X_test)\n",
    "\n",
    "print(\"Train Accuracy\",accuracy_score(y_train,y_train_pred))\n",
    "print(\"Test Accuracy\",accuracy_score(y_test,y_test_pred))\n",
    "print(\"*\"*50)\n",
    "print(\"Train confusion matrix\",confusion_matrix(y_train,y_train_pred))\n",
    "print(\"Test confusion matrix\",confusion_matrix(y_test,y_test_pred))"
   ]
  },
  {
   "cell_type": "markdown",
   "metadata": {
    "id": "TD8eznYyL8sd"
   },
   "source": [
    "<h1>2. Train a Linear Discriminant Analysis(LDA) model on the train data.Do fit_transform on the train data and only transform on the test data. </h1>"
   ]
  },
  {
   "cell_type": "code",
   "execution_count": 142,
   "metadata": {
    "id": "SYZtKTTeduWj"
   },
   "outputs": [],
   "source": [
    "import warnings\n",
    "warnings.filterwarnings(\"ignore\")"
   ]
  },
  {
   "cell_type": "code",
   "execution_count": 143,
   "metadata": {
    "id": "q8zvamhCduWj"
   },
   "outputs": [],
   "source": [
    "# Train LDA model and tranform the data\n",
    "\n",
    "lda = LDA(n_components=1)\n",
    "X_train = lda.fit_transform(X_train, y_train)\n",
    "X_test = lda.transform(X_test)"
   ]
  },
  {
   "cell_type": "markdown",
   "metadata": {
    "id": "sh_3AzagL8se"
   },
   "source": [
    "<h1>3.Train a random-forest mode on the above transformed data (using LDA) and print the accuracy of train and test data. Take max_depth=3 and n_estimators=25 </h1>"
   ]
  },
  {
   "cell_type": "code",
   "execution_count": 144,
   "metadata": {
    "id": "O-bLdmExLPkv"
   },
   "outputs": [
    {
     "name": "stdout",
     "output_type": "stream",
     "text": [
      "Train Accuracy 0.9317980513728964\n",
      "Test Accuracy 0.9079646017699115\n"
     ]
    }
   ],
   "source": [
    "rfc = RandomForestClassifier(max_depth=3,n_estimators = 25)\n",
    "rfc.fit(X_train , y_train)\n",
    "rfc.predict(X_test)\n",
    "print(\"Train Accuracy\",accuracy_score(y_train,y_train_pred))\n",
    "print(\"Test Accuracy\",accuracy_score(y_test,y_test_pred))"
   ]
  },
  {
   "cell_type": "markdown",
   "metadata": {
    "id": "2xrTqw67L8se"
   },
   "source": [
    "<h1> Write your conclusion </h1>"
   ]
  },
  {
   "cell_type": "markdown",
   "metadata": {
    "id": "IADYWZYZduWk"
   },
   "source": [
    "- As we can see we True negative and False negative points is zero before applying LDA but after applying LDA we are getting some amount of True negative and false negative points.\n",
    "- Due to class imbalance, the majority class has high recall but minority class has poor recall.\n"
   ]
  },
  {
   "cell_type": "code",
   "execution_count": null,
   "metadata": {
    "id": "9VBNPabAeHjL"
   },
   "outputs": [],
   "source": []
  }
 ],
 "metadata": {
  "colab": {
   "collapsed_sections": [],
   "name": "Data_Engineering_W2_Question_Notebook.ipynb",
   "provenance": []
  },
  "kernelspec": {
   "display_name": "Python 3",
   "language": "python",
   "name": "python3"
  },
  "language_info": {
   "codemirror_mode": {
    "name": "ipython",
    "version": 3
   },
   "file_extension": ".py",
   "mimetype": "text/x-python",
   "name": "python",
   "nbconvert_exporter": "python",
   "pygments_lexer": "ipython3",
   "version": "3.8.8"
  }
 },
 "nbformat": 4,
 "nbformat_minor": 1
}
